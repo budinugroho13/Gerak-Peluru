{
  "nbformat": 4,
  "nbformat_minor": 0,
  "metadata": {
    "colab": {
      "name": "GerakPeluru.ipynb",
      "provenance": []
    },
    "kernelspec": {
      "name": "python3",
      "display_name": "Python 3"
    }
  },
  "cells": [
    {
      "cell_type": "code",
      "metadata": {
        "id": "Tk6noEljxkc8",
        "colab_type": "code",
        "colab": {
          "base_uri": "https://localhost:8080/",
          "height": 851
        },
        "outputId": "65b8de56-195e-4124-e7fb-bbc89b2f772c"
      },
      "source": [
        "#import some libs\n",
        "\n",
        "import numpy as np\n",
        "import matplotlib.pyplot as pl\n",
        "import math\n",
        "\n",
        "#%%\n",
        "#defines some given values\n",
        "mass = 0.15\n",
        "v0 = 50\n",
        "deg = 35\n",
        "rad = math.radians(deg)\n",
        "d = 0.0013\n",
        "dt = 0.01\n",
        "g = 9.806\n",
        "vx = v0*np.cos(rad)\n",
        "vy = v0*np.sin(rad)\n",
        "print(vx)\n",
        "\n",
        "\n",
        "#%%\n",
        "#numerical calculation here (without drag)...\n",
        "\n",
        "ax = 0\n",
        "ay = -g\n",
        "x,y,t = 0,0,0\n",
        "arr_x,arr_y,arr_t = [x],[y],[t]\n",
        "\n",
        "while y>=0:\n",
        "    vx = vx + ax*dt\n",
        "    vy = vy + ay*dt\n",
        "    x = x + vx*dt\n",
        "    y = y + vy*dt\n",
        "    t = t+dt\n",
        "    if y <= 0 :\n",
        "        break\n",
        "    arr_x.append(x)\n",
        "    arr_y.append(y)\n",
        "    arr_t.append(t)\n",
        "\n",
        "t_tot = arr_t[-1]\n",
        "h_max = np.max(arr_y)\n",
        "r_max = arr_x[-1]\n",
        "\n",
        "print(\"xxxxxxxxxxxxxxxxxxxxxxxxxxx\")\n",
        "print(\"Total Airtime : \",t_tot,\" s\")\n",
        "print(\"Height Maximum: \",h_max,\" m\")\n",
        "print(\"Range         : \",r_max,\" m\")\n",
        "print(\"xxxxxxxxxxxxxxxxxxxxxxxxxxx\")\n",
        "\n",
        "\n",
        "#%%\n",
        "#numerical calculation here ...\n",
        "vxd = v0*np.cos(rad)\n",
        "vyd = v0*np.sin(rad)\n",
        "vd = math.sqrt((vxd*vxd)+(vyd*vyd))\n",
        "axd = -(d/mass)*vd*vxd\n",
        "ayd = -g-(d/mass)*vd*vyd\n",
        "\n",
        "xd,yd,td=0,0,0\n",
        "arr_xd,arr_yd,arr_td = [xd],[yd],[td]\n",
        "\n",
        "while yd>=0 and xd>=0:\n",
        "    vxd = vxd + axd*dt\n",
        "    vyd = vyd + ayd*dt\n",
        "    xd = xd + vxd*dt\n",
        "    yd = yd + vyd*dt\n",
        "    td = td+dt\n",
        "    if yd <= 0 :\n",
        "        break\n",
        "    arr_xd.append(xd)\n",
        "    arr_yd.append(yd)\n",
        "    arr_td.append(td)\n",
        "\n",
        "t_totd = arr_td[-1]\n",
        "h_maxd = np.max(arr_yd)\n",
        "r_maxd = arr_xd[-1]\n",
        "\n",
        "print(\"xxxxxxxxxxxxxxxxxxxxxxxxxxx\")\n",
        "print(\"Total Airtime : \",t_totd,\" s\")\n",
        "print(\"Height Maximum: \",h_maxd,\" m\")\n",
        "print(\"Range         : \",r_maxd,\" m\")\n",
        "print(\"xxxxxxxxxxxxxxxxxxxxxxxxxxx\")\n",
        "\n",
        "\n",
        "\n",
        "# %%\n",
        "#analytical calculation here (without drag) ...\n",
        "\n",
        "arr_x_an,arr_y_an = [0],[0]\n",
        "x0,y0 = 0,0\n",
        "ax = 0\n",
        "ay = -g\n",
        "vx0 = v0*np.cos(rad)\n",
        "vy0 = v0*np.sin(rad)\n",
        "vx_an = vx0\n",
        "vy_an = vy0\n",
        "v = math.sqrt((vx_an*vx_an) + (vy_an*vy_an))\n",
        "for t in arr_t:\n",
        "    \n",
        "    x_an = x0 +(vx0*t)+((ax/2)*t*t)\n",
        "    y_an = y0 +(vy0*t)+((ay/2)*t*t)\n",
        "    arr_x_an.append(x_an)\n",
        "    arr_y_an.append(y_an)\n",
        "\n",
        "\n",
        "t_tot_an = (2*v0*np.sin(rad))/g\n",
        "r_max_an = v0*np.cos(rad)*t_tot_an\n",
        "h_max_an = (v0**2*np.sin(rad)**2)/(2*g)\n",
        "\n",
        "print(\"**************************\")\n",
        "print(\"Total Airtime : \",t_tot_an)\n",
        "print(\"Height Maximum: \",h_max_an)\n",
        "print(\"Range         : \",r_max_an)\n",
        "print(\"**************************\")\n",
        "\n",
        "# %%\n",
        "#Answer no.1 \n",
        "\n",
        "pl.title(\"Numerical Hambatan vs Tanpa Hambatan\")\n",
        "pl.plot(arr_x,arr_y,c='r',label='Tanpa Hambatan')\n",
        "pl.plot(arr_xd,arr_yd,c='g',label='Hambatan')\n",
        "pl.legend()\n",
        "pl.show()\n",
        "\n",
        "\n",
        "\n",
        "print(\"--------------------------\")\n",
        "print(\"\")\n",
        "\n",
        "# %%\n",
        "#Answer no. 2\n",
        "pl.title(\"Analytics vs Numerics\")\n",
        "pl.plot(arr_x,arr_y,c='b',label='Numerics')\n",
        "pl.plot(arr_x_an,arr_y_an,c='g',label='Analytics')\n",
        "pl.legend()\n",
        "pl.show()"
      ],
      "execution_count": 1,
      "outputs": [
        {
          "output_type": "stream",
          "text": [
            "40.95760221444959\n",
            "xxxxxxxxxxxxxxxxxxxxxxxxxxx\n",
            "Total Airtime :  5.82999999999992  s\n",
            "Height Maximum:  41.79405290725263  m\n",
            "Range         :  238.7828209102435  m\n",
            "xxxxxxxxxxxxxxxxxxxxxxxxxxx\n",
            "xxxxxxxxxxxxxxxxxxxxxxxxxxx\n",
            "Total Airtime :  2.5599999999999894  s\n",
            "Height Maximum:  18.352923033019472  m\n",
            "Range         :  46.4666727629747  m\n",
            "xxxxxxxxxxxxxxxxxxxxxxxxxxx\n",
            "**************************\n",
            "Total Airtime :  5.84923961198293\n",
            "Height Maximum:  41.9373251500568\n",
            "Range         :  239.5708292845983\n",
            "**************************\n"
          ],
          "name": "stdout"
        },
        {
          "output_type": "display_data",
          "data": {
            "image/png": "[encoded data removed]",
            "text/plain": [
              "<Figure size 432x288 with 1 Axes>"
            ]
          },
          "metadata": {
            "tags": [],
            "needs_background": "light"
          }
        },
        {
          "output_type": "stream",
          "text": [
            "--------------------------\n",
            "\n"
          ],
          "name": "stdout"
        },
        {
          "output_type": "display_data",
          "data": {
            "image/png": "[encoded data removed]",
            "text/plain": [
              "<Figure size 432x288 with 1 Axes>"
            ]
          },
          "metadata": {
            "tags": [],
            "needs_background": "light"
          }
        }
      ]
    }
  ]
}